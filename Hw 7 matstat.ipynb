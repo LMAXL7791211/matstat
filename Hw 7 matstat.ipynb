{
 "cells": [
  {
   "cell_type": "markdown",
   "metadata": {},
   "source": [
    "### Урок 7.\n",
    "\n",
    "####    1. Даны значения величины заработной платы заемщиков банка (zp) и значения их поведенческого кредитного скоринга (ks):\n",
    "zp = [35, 45, 190, 200, 40, 70, 54, 150, 120, 110], ks = [401, 574, 874, 919, 459, 739, 653, 902, 746, 832]. Используя математические операции, посчитать коэффициенты линейной регрессии, приняв за X заработную плату (то есть, zp - признак), а за y - значения скорингового балла (то есть, ks - целевая переменная). Произвести расчет как с использованием intercept, так и без.\n"
   ]
  },
  {
   "cell_type": "code",
   "execution_count": 3,
   "metadata": {},
   "outputs": [],
   "source": [
    "import numpy as np\n",
    "import matplotlib.pyplot as plt\n",
    "%matplotlib inline"
   ]
  },
  {
   "cell_type": "code",
   "execution_count": 4,
   "metadata": {},
   "outputs": [],
   "source": [
    "zp = np.array([35, 45, 190, 200, 40, 70, 54, 150, 120, 110])\n",
    "ks = np.array([401, 574, 874, 919, 459, 739, 653, 902, 746, 832])"
   ]
  },
  {
   "cell_type": "markdown",
   "metadata": {},
   "source": [
    "1й способ"
   ]
  },
  {
   "cell_type": "markdown",
   "metadata": {},
   "source": [
    "$$b = \\frac{\\overline{yx} - \\overline{y} \\cdot {\\overline{x}}}{\\overline{x^2} - (\\overline{x})^2};$$"
   ]
  },
  {
   "cell_type": "code",
   "execution_count": 10,
   "metadata": {},
   "outputs": [
    {
     "data": {
      "text/plain": [
       "2.620538882402765"
      ]
     },
     "execution_count": 10,
     "metadata": {},
     "output_type": "execute_result"
    }
   ],
   "source": [
    "b = (np.mean(zp * ks) - np.mean(ks) * np.mean(zp)) / (np.mean(zp ** 2) - (np.mean(zp)) ** 2)\n",
    "b"
   ]
  },
  {
   "cell_type": "markdown",
   "metadata": {},
   "source": [
    "$$a = \\overline{y} - b \\cdot {\\overline{x}}.$$"
   ]
  },
  {
   "cell_type": "code",
   "execution_count": 12,
   "metadata": {},
   "outputs": [
    {
     "data": {
      "text/plain": [
       "444.1773573243596"
      ]
     },
     "execution_count": 12,
     "metadata": {},
     "output_type": "execute_result"
    }
   ],
   "source": [
    "a = np.mean(ks) - b * np.mean(zp)\n",
    "a"
   ]
  },
  {
   "cell_type": "code",
   "execution_count": 14,
   "metadata": {},
   "outputs": [
    {
     "data": {
      "image/png": "[encoded data removed]",
      "text/plain": [
       "<Figure size 432x288 with 1 Axes>"
      ]
     },
     "metadata": {
      "needs_background": "light"
     },
     "output_type": "display_data"
    }
   ],
   "source": [
    "plt.scatter(zp,ks);\n",
    "plt.plot(zp, a + b * zp);"
   ]
  },
  {
   "cell_type": "markdown",
   "metadata": {},
   "source": [
    "#### Ответ (первый способ): ks = 444.18 + 2.62 * zp"
   ]
  },
  {
   "cell_type": "markdown",
   "metadata": {},
   "source": [
    "2й способ (матричный)\n",
    "\n",
    "2.1. Без интерсепта"
   ]
  },
  {
   "cell_type": "markdown",
   "metadata": {},
   "source": [
    "$W = (X^T \\cdot X)^{-1} \\cdot X^T \\cdot y$)"
   ]
  },
  {
   "cell_type": "code",
   "execution_count": 41,
   "metadata": {},
   "outputs": [
    {
     "data": {
      "text/plain": [
       "array([[ 35],\n",
       "       [ 45],\n",
       "       [190],\n",
       "       [200],\n",
       "       [ 40],\n",
       "       [ 70],\n",
       "       [ 54],\n",
       "       [150],\n",
       "       [120],\n",
       "       [110]])"
      ]
     },
     "execution_count": 41,
     "metadata": {},
     "output_type": "execute_result"
    }
   ],
   "source": [
    "X = zp.reshape(10,1)\n",
    "X"
   ]
  },
  {
   "cell_type": "code",
   "execution_count": 42,
   "metadata": {},
   "outputs": [
    {
     "data": {
      "text/plain": [
       "array([[401],\n",
       "       [574],\n",
       "       [874],\n",
       "       [919],\n",
       "       [459],\n",
       "       [739],\n",
       "       [653],\n",
       "       [902],\n",
       "       [746],\n",
       "       [832]])"
      ]
     },
     "execution_count": 42,
     "metadata": {},
     "output_type": "execute_result"
    }
   ],
   "source": [
    "y = ks.reshape(10,1)\n",
    "y"
   ]
  },
  {
   "cell_type": "code",
   "execution_count": 45,
   "metadata": {},
   "outputs": [
    {
     "data": {
      "text/plain": [
       "array([[5.88982042]])"
      ]
     },
     "execution_count": 45,
     "metadata": {},
     "output_type": "execute_result"
    }
   ],
   "source": [
    "b0 = np.linalg.inv(X.T @ X) @ X.T @ y\n",
    "b0"
   ]
  },
  {
   "cell_type": "code",
   "execution_count": 46,
   "metadata": {},
   "outputs": [
    {
     "data": {
      "text/plain": [
       "5.889820420132689"
      ]
     },
     "execution_count": 46,
     "metadata": {},
     "output_type": "execute_result"
    }
   ],
   "source": [
    "b0 = b0[0][0]\n",
    "b0"
   ]
  },
  {
   "cell_type": "code",
   "execution_count": 33,
   "metadata": {
    "scrolled": true
   },
   "outputs": [
    {
     "data": {
      "image/png": "[encoded data removed]",
      "text/plain": [
       "<Figure size 432x288 with 1 Axes>"
      ]
     },
     "metadata": {
      "needs_background": "light"
     },
     "output_type": "display_data"
    }
   ],
   "source": [
    "plt.scatter(zp,ks);\n",
    "plt.plot(zp, a + b * zp);\n",
    "plt.plot(zp, b0 * zp);"
   ]
  },
  {
   "cell_type": "markdown",
   "metadata": {},
   "source": [
    "#### Ответ (2.1 без интерсепта): ks = 5.89 * zp"
   ]
  },
  {
   "cell_type": "markdown",
   "metadata": {},
   "source": [
    "2.2. Матричный способ с интерсептом"
   ]
  },
  {
   "cell_type": "markdown",
   "metadata": {},
   "source": [
    "$W = (X \\cdot X^T)^{-1} \\cdot X^T \\cdot y$)"
   ]
  },
  {
   "cell_type": "code",
   "execution_count": 48,
   "metadata": {},
   "outputs": [
    {
     "data": {
      "text/plain": [
       "array([[  1.,  35.],\n",
       "       [  1.,  45.],\n",
       "       [  1., 190.],\n",
       "       [  1., 200.],\n",
       "       [  1.,  40.],\n",
       "       [  1.,  70.],\n",
       "       [  1.,  54.],\n",
       "       [  1., 150.],\n",
       "       [  1., 120.],\n",
       "       [  1., 110.]])"
      ]
     },
     "execution_count": 48,
     "metadata": {},
     "output_type": "execute_result"
    }
   ],
   "source": [
    "X2 = np.hstack([np.ones((10,1)), X])\n",
    "X2"
   ]
  },
  {
   "cell_type": "code",
   "execution_count": 49,
   "metadata": {
    "scrolled": true
   },
   "outputs": [
    {
     "data": {
      "text/plain": [
       "array([[444.17735732],\n",
       "       [  2.62053888]])"
      ]
     },
     "execution_count": 49,
     "metadata": {},
     "output_type": "execute_result"
    }
   ],
   "source": [
    "b2 = np.linalg.inv(X2.T @ X2) @ X2.T @ y\n",
    "b2"
   ]
  },
  {
   "cell_type": "markdown",
   "metadata": {},
   "source": [
    "#### Ответ (второй способ с интерсептом): ks = 444.18 + 2.62 * zp"
   ]
  },
  {
   "cell_type": "markdown",
   "metadata": {},
   "source": [
    "#### 2.  Посчитать коэффициент линейной регрессии при заработной плате (zp), используя градиентный спуск (без intercept).\n"
   ]
  },
  {
   "cell_type": "code",
   "execution_count": 50,
   "metadata": {},
   "outputs": [
    {
     "data": {
      "text/plain": [
       "array([ 35,  45, 190, 200,  40,  70,  54, 150, 120, 110])"
      ]
     },
     "execution_count": 50,
     "metadata": {},
     "output_type": "execute_result"
    }
   ],
   "source": [
    "X = zp\n",
    "X"
   ]
  },
  {
   "cell_type": "code",
   "execution_count": 51,
   "metadata": {},
   "outputs": [
    {
     "data": {
      "text/plain": [
       "array([401, 574, 874, 919, 459, 739, 653, 902, 746, 832])"
      ]
     },
     "execution_count": 51,
     "metadata": {},
     "output_type": "execute_result"
    }
   ],
   "source": [
    "y = ks\n",
    "y"
   ]
  },
  {
   "cell_type": "code",
   "execution_count": 52,
   "metadata": {},
   "outputs": [],
   "source": [
    "alpha = 1e-6"
   ]
  },
  {
   "cell_type": "code",
   "execution_count": 53,
   "metadata": {},
   "outputs": [],
   "source": [
    "B1 = 0.1"
   ]
  },
  {
   "cell_type": "code",
   "execution_count": 56,
   "metadata": {},
   "outputs": [
    {
     "data": {
      "text/plain": [
       "10"
      ]
     },
     "execution_count": 56,
     "metadata": {},
     "output_type": "execute_result"
    }
   ],
   "source": [
    "n = zp.shape[0]\n",
    "n"
   ]
  },
  {
   "cell_type": "code",
   "execution_count": 59,
   "metadata": {},
   "outputs": [],
   "source": [
    "def mse_(B1, y=y, X=X, n=n):\n",
    "    return np.sum((B1 * X - y) ** 2) / n"
   ]
  },
  {
   "cell_type": "code",
   "execution_count": 73,
   "metadata": {},
   "outputs": [
    {
     "data": {
      "text/plain": [
       "56516.85841571941"
      ]
     },
     "execution_count": 73,
     "metadata": {},
     "output_type": "execute_result"
    }
   ],
   "source": [
    "mse_(5.889820420132689) # ранее найденный ответ"
   ]
  },
  {
   "cell_type": "code",
   "execution_count": 68,
   "metadata": {},
   "outputs": [
    {
     "name": "stdout",
     "output_type": "stream",
     "text": [
      "Iteration: 0, B1 = 1.6319792141937546, mse = 306275.7568040035\n",
      "Iteration: 1, B1 = 1.7492963645092312, mse = 292702.0547141798\n",
      "Iteration: 2, B1 = 1.8633810519186353, mse = 279866.0456139243\n",
      "Iteration: 3, B1 = 1.9743223411189108, mse = 267727.6379391773\n",
      "Iteration: 4, B1 = 2.082206842789593, mse = 256248.91899097856\n",
      "Iteration: 5, B1 = 2.187118781208843, mse = 245394.03652020302\n",
      "Iteration: 6, B1 = 2.2891400600064395, mse = 235129.08674783848\n",
      "Iteration: 7, B1 = 2.38835032610507, mse = 225422.0084710492\n",
      "Iteration: 8, B1 = 2.484827031899832, mse = 216242.48292428063\n",
      "Iteration: 9, B1 = 2.5786454957244893, mse = 207561.83908263582\n"
     ]
    }
   ],
   "source": [
    "for i in range(10):\n",
    "    B1 -= alpha * (2 / n) * np.sum((B1 * X - y) * X)\n",
    "    print(f'Iteration: {i}, B1 = {B1}, mse = {mse_(B1)}')"
   ]
  },
  {
   "cell_type": "code",
   "execution_count": 69,
   "metadata": {},
   "outputs": [
    {
     "name": "stdout",
     "output_type": "stream",
     "text": [
      "Iteration: 0, B1 = 2.6698789606516935, mse = 199352.96411174876\n",
      "Iteration: 10, B1 = 3.4547782236263824, mse = 138204.25062502263\n",
      "Iteration: 20, B1 = 4.04834889855975, mse = 103233.54824312925\n",
      "Iteration: 30, B1 = 4.497229618367758, mse = 83233.94472982832\n",
      "Iteration: 40, B1 = 4.836690291080364, mse = 71796.25222021657\n",
      "Iteration: 50, B1 = 5.093403362579137, mse = 65255.0820486468\n",
      "Iteration: 60, B1 = 5.287539550879594, mse = 61514.21323463749\n",
      "Iteration: 70, B1 = 5.434352720103083, mse = 59374.825462025976\n",
      "Iteration: 80, B1 = 5.54537842245223, mse = 58151.31823171113\n",
      "Iteration: 90, B1 = 5.629340281237233, mse = 57451.59938606899\n"
     ]
    }
   ],
   "source": [
    "for i in range(100):\n",
    "    B1 -= alpha * (2 / n) * np.sum((B1 * X - y) * X)\n",
    "    if i%10 == 0:\n",
    "        print(f'Iteration: {i}, B1 = {B1}, mse = {mse_(B1)}')"
   ]
  },
  {
   "cell_type": "code",
   "execution_count": 72,
   "metadata": {
    "scrolled": true
   },
   "outputs": [
    {
     "name": "stdout",
     "output_type": "stream",
     "text": [
      "Iteration: 0, B1 = 5.889820251337954, mse = 56516.8584157198\n",
      "Iteration: 100, B1 = 5.889820409806407, mse = 56516.8584157194\n",
      "Iteration: 200, B1 = 5.889820419500961, mse = 56516.8584157194\n",
      "Iteration: 300, B1 = 5.8898204200940425, mse = 56516.85841571941\n",
      "Iteration: 400, B1 = 5.889820420130325, mse = 56516.85841571941\n",
      "Iteration: 500, B1 = 5.889820420132545, mse = 56516.85841571941\n",
      "Iteration: 600, B1 = 5.889820420132673, mse = 56516.85841571943\n",
      "Iteration: 700, B1 = 5.889820420132673, mse = 56516.85841571943\n",
      "Iteration: 800, B1 = 5.889820420132673, mse = 56516.85841571943\n",
      "Iteration: 900, B1 = 5.889820420132673, mse = 56516.85841571943\n"
     ]
    }
   ],
   "source": [
    "for i in range(1000):\n",
    "    B1 -= alpha * (2 / n) * np.sum((B1 * X - y) * X)\n",
    "    if i%100 == 0:\n",
    "        print(f'Iteration: {i}, B1 = {B1}, mse = {mse_(B1)}')"
   ]
  },
  {
   "cell_type": "markdown",
   "metadata": {},
   "source": [
    "#### Ответ: коэффициент линейной регрессии без интерсепта = 5.89"
   ]
  },
  {
   "cell_type": "markdown",
   "metadata": {},
   "source": [
    "#### 3. В каких случаях для вычисления доверительных интервалов и проверки статистических гипотез используется таблица значений функции Лапласа, а в каких - таблица критических точек распределения Стьюдента?\n"
   ]
  },
  {
   "cell_type": "markdown",
   "metadata": {},
   "source": [
    "#### Ответ: Таблица критических точек распределения Стьюдента используется в случаях, когда нам неизвестны параметры генеральной совокупности (в частности, дисперсия) и когда число степеней свободы менее 30 (или число измерений менее 31). В остальных случаях используется таблица значений функции Лапласа"
   ]
  },
  {
   "cell_type": "markdown",
   "metadata": {},
   "source": [
    "#### 4. Произвести вычисления как в пункте 2, но с вычислением intercept.\n",
    "Учесть, что изменение коэффициентов должно производиться на каждом шаге одновременно (то есть изменение одного коэффициента не должно влиять на изменение другого во время одной итерации).\n",
    "\n"
   ]
  },
  {
   "cell_type": "code",
   "execution_count": 75,
   "metadata": {},
   "outputs": [
    {
     "data": {
      "text/plain": [
       "array([ 35,  45, 190, 200,  40,  70,  54, 150, 120, 110])"
      ]
     },
     "execution_count": 75,
     "metadata": {},
     "output_type": "execute_result"
    }
   ],
   "source": [
    "X = zp\n",
    "X"
   ]
  },
  {
   "cell_type": "code",
   "execution_count": 76,
   "metadata": {},
   "outputs": [
    {
     "data": {
      "text/plain": [
       "array([401, 574, 874, 919, 459, 739, 653, 902, 746, 832])"
      ]
     },
     "execution_count": 76,
     "metadata": {},
     "output_type": "execute_result"
    }
   ],
   "source": [
    "y = ks\n",
    "y"
   ]
  },
  {
   "cell_type": "code",
   "execution_count": 111,
   "metadata": {},
   "outputs": [],
   "source": [
    "alpha = 2 * 1e-5"
   ]
  },
  {
   "cell_type": "code",
   "execution_count": 112,
   "metadata": {},
   "outputs": [],
   "source": [
    "B1 = 0.1\n",
    "B0 = 0.1"
   ]
  },
  {
   "cell_type": "code",
   "execution_count": 79,
   "metadata": {},
   "outputs": [
    {
     "data": {
      "text/plain": [
       "10"
      ]
     },
     "execution_count": 79,
     "metadata": {},
     "output_type": "execute_result"
    }
   ],
   "source": [
    "n = zp.shape[0]\n",
    "n"
   ]
  },
  {
   "cell_type": "code",
   "execution_count": 88,
   "metadata": {},
   "outputs": [],
   "source": [
    "def mse_2(B0, B1, y=y, X=X, n=n):\n",
    "    return np.sum((B0 + B1 * X - y) ** 2) / n"
   ]
  },
  {
   "cell_type": "code",
   "execution_count": 89,
   "metadata": {},
   "outputs": [
    {
     "data": {
      "text/plain": [
       "6470.414201176658"
      ]
     },
     "execution_count": 89,
     "metadata": {},
     "output_type": "execute_result"
    }
   ],
   "source": [
    "mse_2(444.17735732, 2.62053888) # ранее найденный ответ"
   ]
  },
  {
   "cell_type": "code",
   "execution_count": 113,
   "metadata": {
    "scrolled": true
   },
   "outputs": [
    {
     "name": "stdout",
     "output_type": "stream",
     "text": [
      "Iteration: 0, B0 = 0.1279864, B1 = 3.2901560000000005, mse = 149526.33499003082\n",
      "Iteration: 1, B0 = 0.143032407808, B1 = 4.7222183611776005, mse = 75232.34266515492\n",
      "Iteration: 2, B0 = 0.15226936883875133, B1 = 5.365061682747558, mse = 60260.0500892393\n",
      "Iteration: 3, B0 = 0.1588985878787737, B1 = 5.653619727045948, mse = 57242.072360116246\n",
      "Iteration: 4, B0 = 0.16435715032236017, B1 = 5.783136933108663, mse = 56633.08906034792\n",
      "Iteration: 5, B0 = 0.16929017263565854, B1 = 5.841259729600363, mse = 56509.558452096186\n",
      "Iteration: 6, B0 = 0.17398725156549405, B1 = 5.867333137027659, mse = 56483.85469825989\n",
      "Iteration: 7, B0 = 0.17857838887164726, B1 = 5.879019376912299, mse = 56477.86470847383\n",
      "Iteration: 8, B0 = 0.1831219431433361, B1 = 5.884247129048236, mse = 56475.84738835656\n",
      "Iteration: 9, B0 = 0.18764411191019073, B1 = 5.886575626525009, mse = 56474.63064407355\n"
     ]
    }
   ],
   "source": [
    "for i in range(10):\n",
    "    B1r = B1\n",
    "    B1 -= alpha * (2 / n) * np.sum((B0 + B1 * X - y) * X)\n",
    "    B0 -= alpha * (2 / n) * np.sum((B0 + B1r * X - y))\n",
    "\n",
    "    print(f'Iteration: {i}, B0 = {B0}, B1 = {B1}, mse = {mse_2(B0, B1)}')"
   ]
  },
  {
   "cell_type": "code",
   "execution_count": 122,
   "metadata": {},
   "outputs": [],
   "source": [
    "B1 = 0.1\n",
    "B0 = 0.1"
   ]
  },
  {
   "cell_type": "code",
   "execution_count": 123,
   "metadata": {
    "scrolled": true
   },
   "outputs": [
    {
     "name": "stdout",
     "output_type": "stream",
     "text": [
      "Iteration: 0, B0 = 0.1279864, B1 = 3.2901560000000005, mse = 149526.33499003082\n",
      "Iteration: 1000, B0 = 4.629510143752532, B1 = 5.855805372918512, mse = 55479.060830672504\n",
      "Iteration: 2000, B0 = 9.06665783699729, B1 = 5.823146004120545, mse = 54494.590065301876\n",
      "Iteration: 3000, B0 = 13.459013410844888, B1 = 5.790816325125074, mse = 53529.89504879442\n",
      "Iteration: 4000, B0 = 17.80702903279099, B1 = 5.758813007779417, mse = 52584.57853193073\n",
      "Iteration: 5000, B0 = 22.111152305790633, B1 = 5.7271327575279285, mse = 51658.25124531265\n",
      "Iteration: 6000, B0 = 26.371826314336523, B1 = 5.695772313072843, mse = 50750.53173906716\n",
      "Iteration: 7000, B0 = 30.58948967007185, B1 = 5.664728446038545, mse = 49861.046225770166\n",
      "Iteration: 8000, B0 = 34.76457655694316, B1 = 5.633997960639225, mse = 48989.42842652537\n",
      "Iteration: 9000, B0 = 38.89751677589644, B1 = 5.603577693349893, mse = 48135.31942013544\n",
      "Iteration: 10000, B0 = 42.98873578912336, B1 = 5.573464512580712, mse = 47298.367495302686\n"
     ]
    }
   ],
   "source": [
    "for i in range(10001):\n",
    "    B1r = B1\n",
    "    B1 -= alpha * (2 / n) * np.sum((B0 + B1 * X - y) * X)\n",
    "    B0 -= alpha * (2 / n) * np.sum((B0 + B1r * X - y))\n",
    "    if i%1000 == 0:\n",
    "        print(f'Iteration: {i}, B0 = {B0}, B1 = {B1}, mse = {mse_2(B0, B1)}')"
   ]
  },
  {
   "cell_type": "code",
   "execution_count": 120,
   "metadata": {},
   "outputs": [],
   "source": [
    "B1 = 0.1\n",
    "B0 = 0.1"
   ]
  },
  {
   "cell_type": "code",
   "execution_count": 121,
   "metadata": {
    "scrolled": true
   },
   "outputs": [
    {
     "name": "stdout",
     "output_type": "stream",
     "text": [
      "Iteration: 0, B0 = 0.1279864, B1 = 3.2901560000000005, mse = 149526.33499003082\n",
      "Iteration: 200000, B0 = 385.8148880087486, B1 = 3.0501124600955842, mse = 7334.441993584616\n",
      "Iteration: 400000, B0 = 436.50630817310923, B1 = 2.67700119572162, mse = 6485.341111576515\n",
      "Iteration: 600000, B0 = 443.1690895836179, B1 = 2.6279601787553992, mse = 6470.672077897803\n",
      "Iteration: 800000, B0 = 444.04483257879133, B1 = 2.6215143231227036, mse = 6470.418656244823\n",
      "Iteration: 1000000, B0 = 444.1599385302417, B1 = 2.6206670924287647, mse = 6470.414278142239\n",
      "Iteration: 1200000, B0 = 444.17506783203214, B1 = 2.620555734078538, mse = 6470.414202506315\n",
      "Iteration: 1400000, B0 = 444.1770563979531, B1 = 2.6205410973541645, mse = 6470.414201199627\n",
      "Iteration: 1600000, B0 = 444.1773177711795, B1 = 2.6205391735316583, mse = 6470.414201177057\n",
      "Iteration: 1800000, B0 = 444.1773521255662, B1 = 2.6205389206681833, mse = 6470.414201176669\n",
      "Iteration: 2000000, B0 = 444.1773566410366, B1 = 2.6205388874323243, mse = 6470.414201176665\n"
     ]
    }
   ],
   "source": [
    "for i in range(2000001):\n",
    "    B1r = B1\n",
    "    B1 -= alpha * (2 / n) * np.sum((B0 + B1 * X - y) * X)\n",
    "    B0 -= alpha * (2 / n) * np.sum((B0 + B1r * X - y))\n",
    "    if i%200000 == 0:\n",
    "        print(f'Iteration: {i}, B0 = {B0}, B1 = {B1}, mse = {mse_2(B0, B1)}')"
   ]
  },
  {
   "cell_type": "markdown",
   "metadata": {},
   "source": [
    "#### Ответ: коэффициенты линейной регрессии: B0 = 444.177, B1 = 2.62"
   ]
  },
  {
   "cell_type": "code",
   "execution_count": null,
   "metadata": {},
   "outputs": [],
   "source": []
  },
  {
   "cell_type": "code",
   "execution_count": null,
   "metadata": {},
   "outputs": [],
   "source": []
  }
 ],
 "metadata": {
  "kernelspec": {
   "display_name": "Python 3",
   "language": "python",
   "name": "python3"
  },
  "language_info": {
   "codemirror_mode": {
    "name": "ipython",
    "version": 3
   },
   "file_extension": ".py",
   "mimetype": "text/x-python",
   "name": "python",
   "nbconvert_exporter": "python",
   "pygments_lexer": "ipython3",
   "version": "3.7.1"
  }
 },
 "nbformat": 4,
 "nbformat_minor": 2
}

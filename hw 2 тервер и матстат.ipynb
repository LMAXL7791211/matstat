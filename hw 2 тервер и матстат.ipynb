{
 "cells": [
  {
   "cell_type": "markdown",
   "metadata": {},
   "source": [
    "#### 1.Вероятность того, что стрелок попадет в мишень, выстрелив один раз, равна 0.8. Стрелок выстрелил 100 раз. Найдите вероятность того, что стрелок попадет в цель ровно 85 раз."
   ]
  },
  {
   "cell_type": "markdown",
   "metadata": {},
   "source": [
    "$$P_n(X=k) = C_n^k p^k q^{n-k}$$"
   ]
  },
  {
   "cell_type": "markdown",
   "metadata": {},
   "source": [
    "p = 0,8\n",
    "\n",
    "q = 1 - p = 0,2\n",
    "\n",
    "n = 100\n",
    "\n",
    "k = 85"
   ]
  },
  {
   "cell_type": "markdown",
   "metadata": {},
   "source": [
    "$$P_{100}(X={85}) = C_{100}^{85} {0,8}^{85} {0,2}^{100-85}$$"
   ]
  },
  {
   "cell_type": "markdown",
   "metadata": {},
   "source": [
    "$$C_{100}^{85} = \\frac{{100}!}{{85}!({100} - {85})!}$$"
   ]
  },
  {
   "cell_type": "code",
   "execution_count": 1,
   "metadata": {},
   "outputs": [],
   "source": [
    "from math import factorial"
   ]
  },
  {
   "cell_type": "code",
   "execution_count": 2,
   "metadata": {},
   "outputs": [],
   "source": [
    "def combinations(n, k):\n",
    "    return int(factorial(n) / (factorial(k) * factorial(n - k)))"
   ]
  },
  {
   "cell_type": "code",
   "execution_count": 5,
   "metadata": {},
   "outputs": [
    {
     "data": {
      "text/plain": [
       "253338471349988640"
      ]
     },
     "execution_count": 5,
     "metadata": {},
     "output_type": "execute_result"
    }
   ],
   "source": [
    "C = combinations(100, 85)\n",
    "C"
   ]
  },
  {
   "cell_type": "code",
   "execution_count": 11,
   "metadata": {
    "scrolled": true
   },
   "outputs": [
    {
     "data": {
      "text/plain": [
       "0.048061793700746355"
      ]
     },
     "execution_count": 11,
     "metadata": {},
     "output_type": "execute_result"
    }
   ],
   "source": [
    "p = 0.8\n",
    "q = 1 - p\n",
    "n = 100\n",
    "k = 85\n",
    "\n",
    "P = C * p**k * q**(n - k)\n",
    "P"
   ]
  },
  {
   "cell_type": "markdown",
   "metadata": {},
   "source": [
    "Ответ: вероятность того, что стрелок попадет 85 раз из 100 равна 0.048"
   ]
  },
  {
   "cell_type": "code",
   "execution_count": 19,
   "metadata": {},
   "outputs": [],
   "source": [
    "import numpy as np"
   ]
  },
  {
   "cell_type": "markdown",
   "metadata": {},
   "source": [
    "Дополнительно - график вероятностей"
   ]
  },
  {
   "cell_type": "code",
   "execution_count": 30,
   "metadata": {},
   "outputs": [
    {
     "name": "stdout",
     "output_type": "stream",
     "text": [
      "0.9999999999999999\n"
     ]
    }
   ],
   "source": [
    "Pfor = np.array([])\n",
    "for i in range(0, 101):\n",
    "    Pfor = np.append(Pfor, (combinations(100, i)) * p**i * q**(n - i))\n",
    "    #  print (i, Pfor[i] * 100 , \"%\")\n",
    "print(Pfor.sum())"
   ]
  },
  {
   "cell_type": "code",
   "execution_count": 33,
   "metadata": {},
   "outputs": [],
   "source": [
    "import matplotlib.pyplot as plt\n",
    "%matplotlib inline"
   ]
  },
  {
   "cell_type": "code",
   "execution_count": 39,
   "metadata": {
    "scrolled": true
   },
   "outputs": [
    {
     "data": {
      "image/png": "[encoded data removed]",
      "text/plain": [
       "<Figure size 432x288 with 1 Axes>"
      ]
     },
     "metadata": {
      "needs_background": "light"
     },
     "output_type": "display_data"
    }
   ],
   "source": [
    "x = np.arange(0, 101)\n",
    "plt.plot(x, Pfor[x])\n",
    "plt.show()"
   ]
  },
  {
   "cell_type": "markdown",
   "metadata": {},
   "source": [
    "#### 2. Вероятность того, что лампочка перегорит в течение первого дня эксплуатации, равна 0.0004.\n",
    "В жилом комплексе после ремонта в один день включили 5000 новых лампочек. Какова вероятность, что ни одна из них не перегорит в первый день? Какова вероятность, что перегорят ровно две?\n"
   ]
  },
  {
   "cell_type": "markdown",
   "metadata": {},
   "source": [
    "Так как вероятность очень мала, применим формулу распределения Пуассона."
   ]
  },
  {
   "cell_type": "markdown",
   "metadata": {},
   "source": [
    "$$P_m \\approx \\frac{\\lambda^m}{m!}e^{-\\lambda}$$"
   ]
  },
  {
   "cell_type": "markdown",
   "metadata": {},
   "source": [
    "где $λ = np$."
   ]
  },
  {
   "cell_type": "code",
   "execution_count": 60,
   "metadata": {},
   "outputs": [],
   "source": [
    "p = 0.0004\n",
    "n = 5000\n",
    "mz1 = 0\n",
    "mz2 = 2\n",
    "mjuz = n * p"
   ]
  },
  {
   "cell_type": "code",
   "execution_count": 61,
   "metadata": {},
   "outputs": [],
   "source": [
    "def puasson(mju, m):\n",
    "    return mju ** m / factorial(m) * np.e ** (-mju)"
   ]
  },
  {
   "cell_type": "code",
   "execution_count": 66,
   "metadata": {},
   "outputs": [
    {
     "name": "stdout",
     "output_type": "stream",
     "text": [
      "Вероятность, что не перегорит ни одна лампочка = 0.1353352832366127\n"
     ]
    }
   ],
   "source": [
    "print (f'Вероятность, что не перегорит ни одна лампочка = {puasson(mjuz, mz1)}')"
   ]
  },
  {
   "cell_type": "code",
   "execution_count": 67,
   "metadata": {},
   "outputs": [
    {
     "name": "stdout",
     "output_type": "stream",
     "text": [
      "Вероятность, что перегорит 2 лампочки(чек) = 0.2706705664732254\n"
     ]
    }
   ],
   "source": [
    "print (f'Вероятность, что перегорит {mz2} лампочки(чек) = {puasson(mjuz, mz2)}')"
   ]
  },
  {
   "cell_type": "code",
   "execution_count": 64,
   "metadata": {},
   "outputs": [
    {
     "name": "stdout",
     "output_type": "stream",
     "text": [
      "0.9999999999999356\n"
     ]
    }
   ],
   "source": [
    "Pfor = np.array([])\n",
    "for i in range(0, 20):\n",
    "    Pfor = np.append(Pfor, puasson(mjuz, i))\n",
    "    #  print (i, Pfor[i] * 100 , \"%\")\n",
    "print(Pfor.sum())"
   ]
  },
  {
   "cell_type": "code",
   "execution_count": 65,
   "metadata": {},
   "outputs": [
    {
     "data": {
      "image/png": "[encoded data removed]",
      "text/plain": [
       "<Figure size 432x288 with 1 Axes>"
      ]
     },
     "metadata": {
      "needs_background": "light"
     },
     "output_type": "display_data"
    }
   ],
   "source": [
    "x = np.arange(0, 10)\n",
    "plt.plot(x, Pfor[x])\n",
    "plt.show()"
   ]
  },
  {
   "cell_type": "markdown",
   "metadata": {},
   "source": [
    "#### 3.Монету подбросили 144 раза. Какова вероятность, что орел выпадет ровно 70 раз?\n"
   ]
  },
  {
   "cell_type": "markdown",
   "metadata": {},
   "source": [
    "$$P_n(X=k) = C_n^k p^k q^{n-k}$$"
   ]
  },
  {
   "cell_type": "markdown",
   "metadata": {},
   "source": [
    "p = 0,5\n",
    "\n",
    "q = 1 - p = 0,5\n",
    "\n",
    "n = 144\n",
    "\n",
    "k = 70"
   ]
  },
  {
   "cell_type": "markdown",
   "metadata": {},
   "source": [
    "$$P_{144}(X={70}) = C_{144}^{70} {0,5}^{70} {0,5}^{100-70} = C_{144}^{70} {0,5}^{100}$$"
   ]
  },
  {
   "cell_type": "markdown",
   "metadata": {},
   "source": [
    "$$C_{144}^{70} = \\frac{{144}!}{{70}!({144} - {70})!}$$"
   ]
  },
  {
   "cell_type": "code",
   "execution_count": 68,
   "metadata": {},
   "outputs": [
    {
     "data": {
      "text/plain": [
       "1400749509083708712353342007350408066891776"
      ]
     },
     "execution_count": 68,
     "metadata": {},
     "output_type": "execute_result"
    }
   ],
   "source": [
    "C = combinations(144, 70)\n",
    "C"
   ]
  },
  {
   "cell_type": "code",
   "execution_count": 70,
   "metadata": {
    "scrolled": true
   },
   "outputs": [
    {
     "data": {
      "text/plain": [
       "0.06281178035144776"
      ]
     },
     "execution_count": 70,
     "metadata": {},
     "output_type": "execute_result"
    }
   ],
   "source": [
    "p = 0.5\n",
    "q = 1 - p\n",
    "n = 144\n",
    "k = 70\n",
    "\n",
    "P = C * p**n\n",
    "P"
   ]
  },
  {
   "cell_type": "markdown",
   "metadata": {},
   "source": [
    "Ответ: вероятность того, что орёл выпадет ровно 70 раз из 144 равна 0.0628"
   ]
  },
  {
   "cell_type": "markdown",
   "metadata": {},
   "source": [
    "Дополнительно - график вероятностей"
   ]
  },
  {
   "cell_type": "code",
   "execution_count": 72,
   "metadata": {},
   "outputs": [
    {
     "name": "stdout",
     "output_type": "stream",
     "text": [
      "1.0\n"
     ]
    }
   ],
   "source": [
    "Pfor = np.array([])\n",
    "for i in range(0, n + 1):\n",
    "    Pfor = np.append(Pfor, (combinations(n, i)) * p**n)\n",
    "    #  print (i, Pfor[i] * 100 , \"%\")\n",
    "print(Pfor.sum())"
   ]
  },
  {
   "cell_type": "code",
   "execution_count": 81,
   "metadata": {
    "scrolled": true
   },
   "outputs": [
    {
     "data": {
      "image/png": "[encoded data removed]",
      "text/plain": [
       "<Figure size 432x288 with 1 Axes>"
      ]
     },
     "metadata": {
      "needs_background": "light"
     },
     "output_type": "display_data"
    }
   ],
   "source": [
    "x = np.arange(52, 93)\n",
    "plt.plot(x, Pfor[x])\n",
    "plt.show()"
   ]
  },
  {
   "cell_type": "markdown",
   "metadata": {},
   "source": [
    "#### 4. В первом ящике находится 10 мячей, из которых 7 - белые. Во втором ящике - 11 мячей, из которых 9 белых. Из каждого ящика вытаскивают случайным образом по два мяча.\n",
    "Какова вероятность того, что все мячи белые?\n",
    "\n",
    "Какова вероятность того, что ровно два мяча белые?\n",
    "\n",
    "Какова вероятность того, что хотя бы один мяч белый?"
   ]
  },
  {
   "cell_type": "markdown",
   "metadata": {},
   "source": [
    "Чтобы все мячи были белые, должны произойти оба события - два мяча из первого ящика и два мяча из второго должны быть белыми.\n",
    "\n",
    "Количество таких событий для первого ящика = сочетания 2 из 7."
   ]
  },
  {
   "cell_type": "markdown",
   "metadata": {},
   "source": [
    "$$C_7^2 = \\frac{7!}{2!(7 - 2)!}$$"
   ]
  },
  {
   "cell_type": "markdown",
   "metadata": {},
   "source": [
    "7 * 6 / 2\n",
    "\n",
    "7 * 3 = 21"
   ]
  },
  {
   "cell_type": "markdown",
   "metadata": {},
   "source": [
    "Общее количество сочетаний для 1 ящика:"
   ]
  },
  {
   "cell_type": "markdown",
   "metadata": {},
   "source": [
    "$$C_{10}^2 = \\frac{{10}!}{2!({10} - 2)!}$$"
   ]
  },
  {
   "cell_type": "markdown",
   "metadata": {},
   "source": [
    "10 * 9 / 2\n",
    "\n",
    "5 * 9 = 45"
   ]
  },
  {
   "cell_type": "markdown",
   "metadata": {},
   "source": [
    "Т.о., вероятность наступления события для первого ящика = 21/45 = 7/15.\n",
    "\n",
    "Для второго ящика количество событий:"
   ]
  },
  {
   "cell_type": "markdown",
   "metadata": {},
   "source": [
    "$$C_{9}^2 = \\frac{{9}!}{2!({9} - 2)!}$$"
   ]
  },
  {
   "cell_type": "markdown",
   "metadata": {},
   "source": [
    "9 * 8 / 2 = 36\n",
    "\n",
    "Общее количество сочетаний для 2 ящика:"
   ]
  },
  {
   "cell_type": "markdown",
   "metadata": {},
   "source": [
    "$$C_{11}^2 = \\frac{{11}!}{2!({11} - 2)!}$$"
   ]
  },
  {
   "cell_type": "markdown",
   "metadata": {},
   "source": [
    "11 * 10 / 2 = 55\n",
    "\n",
    "Т.о., вероятность наступления события для 2 ящика = 36/55.\n",
    "\n",
    "События независимые, и должны произойти вместе, поэтому перемножаем вероятности:\n",
    "\n",
    "#### Вероятность того, что все мячи белые P1 = 7 / 15 * 36 / 55 = 84 / 275 = 0.30(54)"
   ]
  },
  {
   "cell_type": "markdown",
   "metadata": {},
   "source": [
    "Ровно два белых мяча получаются при наступлении трех вариантов одновременных событий:\n",
    "    \n",
    "    1) из 1го ящика вынимают небелые шары, и из второго - 2 белых\n",
    "    \n",
    "    2) из 1го ящика вынимают строго один белый шар, и из второго - тоже строго один белый шар\n",
    "    \n",
    "    3) из 1го ящика вынимают два белых шара, и из второго - строго 2 небелых\n",
    "    \n",
    "    Вероятности этих событий надо просуммировать, тогда мы получим ответ"
   ]
  },
  {
   "cell_type": "markdown",
   "metadata": {},
   "source": [
    "из 1го ящика вынимают небелые шары, и из второго - 2 белых\n",
    "\n",
    "P11 = 3 * 2 / 2 = 3. Остальное посчитали ранее. Вероятность для первого ящика = 3/45 = 1 / 15.\n",
    "\n",
    "Вероятность для второго = 36/55.\n",
    "#### Итого, вероятность 1го варианта = 1/15 * 36 / 55 = 12 / 275\n",
    "\n"
   ]
  },
  {
   "cell_type": "markdown",
   "metadata": {},
   "source": [
    "из 1го ящика вынимают строго один белый шар и один не белый, и из второго - то же самое.\n",
    "\n",
    "Для первого ящика это (сочетания 1 из 7 * на сочетания 1 из 3) / 45 = 7*3/45 = 21/45 = 7/15\n",
    "\n",
    "Для второго ящика это (сочетания 1 из 9 * на сочетания 1 из 2) / 55 = 9*2/55 = 18/55\n",
    "\n",
    "Вероятность наступления обоих событий = 7/15 * 18/55 = 42/275\n",
    "\n",
    "#### Вероятность 2го варианта = 42/275"
   ]
  },
  {
   "cell_type": "markdown",
   "metadata": {},
   "source": [
    "Из 1го ящика вынимают два белых шара, и из второго - строго 2 небелых.\n",
    "\n",
    "Для 1 ящика посчитано ранее - 7/15. Для второго ящика - общее количество событий посчитано ранее = 55. Во втором ящике всего два небелых мяча, т.е. количество событий для второго ящика = 1, вероятность = 1/55.\n",
    "\n",
    "#### Вероятность 3го варианта = 7/15 * 1/55 = 7/825\n",
    "\n",
    "События несовместные, поэтому вероятность того, что наступит один из трех вариантов = 12/275 + 42/275 + 7/825\n",
    "\n",
    "### Ответ: вероятность того, что ровно два мяча белые = 169/825 = 0.20(48)"
   ]
  },
  {
   "cell_type": "markdown",
   "metadata": {},
   "source": [
    "3)Чтобы посчитать, какова верояность, что хотя бы один мяч белый (а значит, событие происходит, когда один, или два, или три, или все 4 мяча белые), пойдем от обратного - посчитаем вероятность, что все мячи не белые, и вычтем ее из 1, чтобы получить ответ.\n",
    "\n",
    "Количество сочетаний посчитано выше,  для первого ящика  = 1/15, для второго ящика 1/55, одновременного наступления = 1 / (15 * 55) = 1/825. Тогда вероятность, что будут белые мячи = 1 - 1/825. \n",
    "\n",
    "#### Ответ: вероятность того, что хотя бы один мяч белый =  824/825 или 0.99(87) "
   ]
  },
  {
   "cell_type": "code",
   "execution_count": null,
   "metadata": {},
   "outputs": [],
   "source": []
  }
 ],
 "metadata": {
  "kernelspec": {
   "display_name": "Python 3",
   "language": "python",
   "name": "python3"
  },
  "language_info": {
   "codemirror_mode": {
    "name": "ipython",
    "version": 3
   },
   "file_extension": ".py",
   "mimetype": "text/x-python",
   "name": "python",
   "nbconvert_exporter": "python",
   "pygments_lexer": "ipython3",
   "version": "3.7.1"
  }
 },
 "nbformat": 4,
 "nbformat_minor": 2
}

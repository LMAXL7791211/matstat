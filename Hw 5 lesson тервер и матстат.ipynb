{
 "cells": [
  {
   "cell_type": "code",
   "execution_count": 13,
   "metadata": {},
   "outputs": [],
   "source": [
    "import numpy as np"
   ]
  },
  {
   "cell_type": "markdown",
   "metadata": {},
   "source": [
    "#### 1.Известно, что генеральная совокупность распределена нормально\n",
    "    со средним квадратическим отклонением, равным 16.\n",
    "    Найти доверительный интервал для оценки математического ожидания a с надежностью 0.95,\n",
    "    если выборочная средняя M = 80, а объем выборки n = 256."
   ]
  },
  {
   "cell_type": "markdown",
   "metadata": {},
   "source": [
    "$\\delta = \\frac{t_{\\lambda} \\cdot \\sigma}{\\sqrt{n}}$"
   ]
  },
  {
   "cell_type": "markdown",
   "metadata": {},
   "source": [
    "2Ф (t_lambda) = lambda = 0.95\n",
    "\n",
    "Ф (t_lambda) = lambda = 0.475\n",
    "\n",
    "t_lambda = 1.96 (По таблице Лапласа по адресу http://matecos.ru/formuly/formuly-i-tablitsy/tablitsa-laplasa.html)"
   ]
  },
  {
   "cell_type": "code",
   "execution_count": 2,
   "metadata": {},
   "outputs": [
    {
     "data": {
      "text/plain": [
       "1.96"
      ]
     },
     "execution_count": 2,
     "metadata": {},
     "output_type": "execute_result"
    }
   ],
   "source": [
    "delta = 1.96 * 16 / (256 ** 0.5)\n",
    "delta"
   ]
  },
  {
   "cell_type": "code",
   "execution_count": 3,
   "metadata": {},
   "outputs": [
    {
     "data": {
      "text/plain": [
       "(78.04, 81.96)"
      ]
     },
     "execution_count": 3,
     "metadata": {},
     "output_type": "execute_result"
    }
   ],
   "source": [
    "(80 - delta, 80 + delta)"
   ]
  },
  {
   "cell_type": "markdown",
   "metadata": {},
   "source": [
    "#### Ответ: Доверительный интервал = (78.04, 81.96)"
   ]
  },
  {
   "cell_type": "markdown",
   "metadata": {},
   "source": [
    "Внимательно будьте со 2 и 4 заданиями.Мы на вебинаре рассматривали случаи с известной сигмой.Когда сигма генеральной совокупности нам неизвестна, делаем все то же самое,только берем t-критерий (критерий Стьюдента), а сигму считаем из выборки.В материалах есть таблица для критерия Стьюдента. График плотности распределения Стьюдента симметричный\n",
    "\n",
    "####    2.В результате 10 независимых измерений некоторой величины X, выполненных с одинаковой точностью,\n",
    "    получены опытные данные:\n",
    "    6.9, 6.1, 6.2, 6.8, 7.5, 6.3, 6.4, 6.9, 6.7, 6.1\n",
    "    Предполагая, что результаты измерений подчинены нормальному закону распределения вероятностей,\n",
    "    оценить истинное значение величины X при помощи доверительного интервала, покрывающего это\n",
    "    значение с доверительной вероятностью 0,95.\n"
   ]
  },
  {
   "cell_type": "code",
   "execution_count": 14,
   "metadata": {},
   "outputs": [],
   "source": [
    "mes = np.array([6.9, 6.1, 6.2, 6.8, 7.5, 6.3, 6.4, 6.9, 6.7, 6.1])"
   ]
  },
  {
   "cell_type": "code",
   "execution_count": 18,
   "metadata": {},
   "outputs": [
    {
     "data": {
      "text/plain": [
       "0.4508017549014448"
      ]
     },
     "execution_count": 18,
     "metadata": {},
     "output_type": "execute_result"
    }
   ],
   "source": [
    "std1 = mes.std(ddof=1)\n",
    "std1"
   ]
  },
  {
   "cell_type": "code",
   "execution_count": 21,
   "metadata": {},
   "outputs": [
    {
     "data": {
      "text/plain": [
       "6.590000000000001"
      ]
     },
     "execution_count": 21,
     "metadata": {},
     "output_type": "execute_result"
    }
   ],
   "source": [
    "mean_ = mes.mean()\n",
    "mean_"
   ]
  },
  {
   "cell_type": "markdown",
   "metadata": {},
   "source": [
    "n = 10, v = n-1 = 9\n",
    "\n",
    "$\\alpha = (1-0.95)/2 = 0.025$\n",
    "\n",
    "t = 2.262 (По таблице критерия Стьюдента)"
   ]
  },
  {
   "cell_type": "code",
   "execution_count": 22,
   "metadata": {},
   "outputs": [
    {
     "data": {
      "text/plain": [
       "0.32260355023526943"
      ]
     },
     "execution_count": 22,
     "metadata": {},
     "output_type": "execute_result"
    }
   ],
   "source": [
    "delta2 = 2.262 * 0.451 / (10 ** 0.5)\n",
    "delta2"
   ]
  },
  {
   "cell_type": "code",
   "execution_count": 23,
   "metadata": {
    "scrolled": true
   },
   "outputs": [
    {
     "data": {
      "text/plain": [
       "(6.267396449764731, 6.9126035502352705)"
      ]
     },
     "execution_count": 23,
     "metadata": {},
     "output_type": "execute_result"
    }
   ],
   "source": [
    "(mean_ - delta2, mean_ + delta2)"
   ]
  },
  {
   "cell_type": "markdown",
   "metadata": {},
   "source": [
    "#### Ответ: Истинное значение Х расположено в интервале (6.27, 6.91)"
   ]
  },
  {
   "cell_type": "markdown",
   "metadata": {},
   "source": [
    "####    3.Утверждается, что шарики для подшипников, изготовленные автоматическим станком, имеют средний диаметр 17 мм.\n",
    "  Используя односторонний критерий с α=0,05, проверить эту гипотезу, если в выборке из n=100 шариков средний диаметр\n",
    "    оказался равным 17.5 мм, а дисперсия известна и равна 4 мм.\n",
    "    "
   ]
  },
  {
   "cell_type": "markdown",
   "metadata": {},
   "source": [
    "H0: M = 17\n",
    "\n",
    "H1: M > 17\n",
    "\n"
   ]
  },
  {
   "cell_type": "code",
   "execution_count": 9,
   "metadata": {},
   "outputs": [
    {
     "data": {
      "text/plain": [
       "2.0"
      ]
     },
     "execution_count": 9,
     "metadata": {},
     "output_type": "execute_result"
    }
   ],
   "source": [
    "std = 4 **0.5\n",
    "std"
   ]
  },
  {
   "cell_type": "code",
   "execution_count": 10,
   "metadata": {},
   "outputs": [
    {
     "data": {
      "text/plain": [
       "2.5"
      ]
     },
     "execution_count": 10,
     "metadata": {},
     "output_type": "execute_result"
    }
   ],
   "source": [
    "U_nabl = ((17.5 - 17) / 2) * (100**0.5)\n",
    "U_nabl"
   ]
  },
  {
   "cell_type": "markdown",
   "metadata": {},
   "source": [
    "Найдём критическую точку для односторонней критической области по таблице Лапласа:\n",
    "\n",
    "${\\alpha}$ = 0,05\n",
    "\n",
    "Ф(х) = (1 - 2 * ${\\alpha}$) / 2 = 0.45"
   ]
  },
  {
   "cell_type": "code",
   "execution_count": 7,
   "metadata": {},
   "outputs": [],
   "source": [
    "u_kr = 1.645"
   ]
  },
  {
   "cell_type": "code",
   "execution_count": 11,
   "metadata": {},
   "outputs": [
    {
     "data": {
      "text/plain": [
       "True"
      ]
     },
     "execution_count": 11,
     "metadata": {},
     "output_type": "execute_result"
    }
   ],
   "source": [
    "u_kr < U_nabl"
   ]
  },
  {
   "cell_type": "markdown",
   "metadata": {},
   "source": [
    "#### Ответ: отвергаем H0 и принимаем H1 (средний диаметр подшипников больше 17 мм)"
   ]
  },
  {
   "cell_type": "markdown",
   "metadata": {},
   "source": [
    "Внимательно будьте со 2 и 4 заданиями.Мы на вебинаре рассматривали случаи с известной сигмой.Когда сигма генеральной совокупности нам неизвестна, делаем все то же самое,только берем t-критерий (критерий Стьюдента), а сигму считаем из выборки.В материалах есть таблица для критерия Стьюдента. График плотности распределения Стьюдента симметричный\n",
    "\n",
    "####    4. Продавец утверждает, что средний вес пачки печенья составляет 200 г.\n",
    "    Из партии извлечена выборка из 10 пачек. Вес каждой пачки составляет:\n",
    "    202, 203, 199, 197, 195, 201, 200, 204, 194, 190.\n",
    "    Известно, что их веса распределены нормально.\n",
    "    Верно ли утверждение продавца, если учитывать, что доверительная вероятность равна 99%?\n",
    "\n"
   ]
  },
  {
   "cell_type": "code",
   "execution_count": 24,
   "metadata": {},
   "outputs": [],
   "source": [
    "weight = np.array([202, 203, 199, 197, 195, 201, 200, 204, 194, 190])"
   ]
  },
  {
   "cell_type": "markdown",
   "metadata": {},
   "source": [
    "H0: M = 200\n",
    "H1: M != 200"
   ]
  },
  {
   "cell_type": "code",
   "execution_count": 30,
   "metadata": {},
   "outputs": [
    {
     "data": {
      "text/plain": [
       "4.453463071962462"
      ]
     },
     "execution_count": 30,
     "metadata": {},
     "output_type": "execute_result"
    }
   ],
   "source": [
    "stdw = weight.std(ddof=1)\n",
    "stdw"
   ]
  },
  {
   "cell_type": "code",
   "execution_count": 28,
   "metadata": {},
   "outputs": [
    {
     "data": {
      "text/plain": [
       "198.5"
      ]
     },
     "execution_count": 28,
     "metadata": {},
     "output_type": "execute_result"
    }
   ],
   "source": [
    "stdm = weight.mean()\n",
    "stdm"
   ]
  },
  {
   "cell_type": "code",
   "execution_count": 31,
   "metadata": {},
   "outputs": [
    {
     "data": {
      "text/plain": [
       "-1.0659362899443976"
      ]
     },
     "execution_count": 31,
     "metadata": {},
     "output_type": "execute_result"
    }
   ],
   "source": [
    "U_nablw = ((198.5 - 200) / 4.45) * (10**0.5)\n",
    "U_nablw"
   ]
  },
  {
   "cell_type": "markdown",
   "metadata": {},
   "source": [
    "n = 10, v = n-1 = 9\n",
    "\n",
    "$\\alpha = (1-0.99)/2 = 0.005$\n",
    "\n",
    "t = 3.250 (По таблице критерия Стьюдента)\n",
    "\n",
    "t > Unablw (знак не учитываем)\n",
    "\n",
    "Принимаем гипотезу H0"
   ]
  },
  {
   "cell_type": "markdown",
   "metadata": {},
   "source": [
    "#### Ответ: утверждение продавца верно."
   ]
  },
  {
   "cell_type": "code",
   "execution_count": null,
   "metadata": {},
   "outputs": [],
   "source": []
  }
 ],
 "metadata": {
  "kernelspec": {
   "display_name": "Python 3",
   "language": "python",
   "name": "python3"
  },
  "language_info": {
   "codemirror_mode": {
    "name": "ipython",
    "version": 3
   },
   "file_extension": ".py",
   "mimetype": "text/x-python",
   "name": "python",
   "nbconvert_exporter": "python",
   "pygments_lexer": "ipython3",
   "version": "3.7.1"
  }
 },
 "nbformat": 4,
 "nbformat_minor": 2
}
